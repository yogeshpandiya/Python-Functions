{
 "cells": [
  {
   "cell_type": "markdown",
   "id": "8220c1a2",
   "metadata": {},
   "source": [
    "Question 6 python:"
   ]
  },
  {
   "cell_type": "code",
   "execution_count": 16,
   "id": "8aac832e",
   "metadata": {},
   "outputs": [],
   "source": [
    "#answer\n",
    "\n",
    "def pig(user_input):\n",
    "    String=user_input.lower()\n",
    "    Vowels = ['a', 'e', 'i','o', 'u']\n",
    "    if  y[0] in Vowels:\n",
    "        return y +\"way\"\n",
    "    else:\n",
    "        return y[1:] + y[0] + \"ay\"\n"
   ]
  },
  {
   "cell_type": "code",
   "execution_count": 17,
   "id": "ecb0c7c7",
   "metadata": {},
   "outputs": [
    {
     "data": {
      "text/plain": [
       "'appleway'"
      ]
     },
     "execution_count": 17,
     "metadata": {},
     "output_type": "execute_result"
    }
   ],
   "source": [
    "pig('apple')"
   ]
  },
  {
   "cell_type": "code",
   "execution_count": 3,
   "id": "546e4760",
   "metadata": {},
   "outputs": [
    {
     "data": {
      "text/plain": [
       "'appyhay'"
      ]
     },
     "execution_count": 3,
     "metadata": {},
     "output_type": "execute_result"
    }
   ],
   "source": [
    "pig('Happy')"
   ]
  },
  {
   "cell_type": "markdown",
   "id": "22729dcd",
   "metadata": {},
   "source": [
    "Question 7 python"
   ]
  },
  {
   "cell_type": "code",
   "execution_count": 4,
   "id": "da6a394d",
   "metadata": {},
   "outputs": [],
   "source": [
    "#Answer\n",
    "\n",
    "def bldcount(file_name):\n",
    "    h = open(file_name, 'r')\n",
    "    Data = h.readlines()\n",
    "    Tuple= ('A','B','AB', 'O','OO')\n",
    "    b= []\n",
    "    for i in Data:\n",
    "        a = i.split()\n",
    "        b.append(a)\n",
    "\n",
    "    frequency = {}\n",
    "\n",
    "    for item in b[0]:\n",
    "       if item in frequency:\n",
    "          frequency[item] += 1\n",
    "       else:\n",
    "          frequency[item] = 1\n",
    "    for i in Tuple:\n",
    "        if i in frequency:\n",
    "            print(\"There are\",frequency[i],\"patients of blood type\",i)\n",
    "        else:\n",
    "            print(\"There is no patients of blood type\",i)\n"
   ]
  },
  {
   "cell_type": "code",
   "execution_count": 5,
   "id": "f4022cb0",
   "metadata": {},
   "outputs": [
    {
     "name": "stdout",
     "output_type": "stream",
     "text": [
      "There are 15 patients of blood type A\n",
      "There are 1 patients of blood type B\n",
      "There are 13 patients of blood type AB\n",
      "There are 15 patients of blood type O\n",
      "There is no patients of blood type OO\n"
     ]
    }
   ],
   "source": [
    "bldcount('bloodtype.txt')"
   ]
  },
  {
   "cell_type": "markdown",
   "id": "1b942284",
   "metadata": {},
   "source": [
    "Question 8 python "
   ]
  },
  {
   "cell_type": "code",
   "execution_count": 6,
   "id": "02a25677",
   "metadata": {},
   "outputs": [],
   "source": [
    "#Answer\n",
    "def curconv(Name,Amount):\n",
    "    h = open('currencies.txt', 'r')\n",
    "    Data = h.readlines()\n",
    "    a = []\n",
    "    for line in Data:\n",
    "        a.append(line.split())\n",
    "    for i in range(len(a)):\n",
    "        if Name == a[i][0]:\n",
    "            print(float(a[i][1])*Amount)"
   ]
  },
  {
   "cell_type": "code",
   "execution_count": 7,
   "id": "df18c614",
   "metadata": {},
   "outputs": [
    {
     "name": "stdout",
     "output_type": "stream",
     "text": [
      "7.518479999999999\n"
     ]
    }
   ],
   "source": [
    "curconv('MXN',100)"
   ]
  },
  {
   "cell_type": "markdown",
   "id": "c8384dd0",
   "metadata": {},
   "source": [
    "Question - 9 Python"
   ]
  },
  {
   "cell_type": "markdown",
   "id": "11e4e33c",
   "metadata": {},
   "source": [
    "#answers\n",
    "\n",
    "question = 6 + 'a'\n",
    "\n",
    "Answer= TypeError: unsupported operand type(s) for +: 'int' and 'str'\n",
    "\n",
    "Question = Referring to the 12th item of a list that has only 10 items.\n",
    "\n",
    "Answer = IndexError: list index out of range\n",
    "\n",
    "Question = Using a value that is out of range for a function's input, such as calling math.sqrt(-1.0)\n",
    "\n",
    "Answer = ValueError: math domain error\n",
    "\n",
    "Question = Using an undeclared variable, such as print(x) when x has not been defined. \n",
    "\n",
    "Answer = NameError: name 'x' is not defined\n",
    "\n",
    "Question = Trying to open a file that does not exist such as mistyping the file name or looking in the wrong directory. \n",
    "\n",
    "Answer = FileNotFoundError: [Errno 2] No such file or directory: 'file_name.txt'\n"
   ]
  },
  {
   "cell_type": "markdown",
   "id": "2ab8411c",
   "metadata": {},
   "source": [
    "Question - 10 Python"
   ]
  },
  {
   "cell_type": "code",
   "execution_count": 8,
   "id": "eb543332",
   "metadata": {},
   "outputs": [],
   "source": [
    "#Answer\n",
    "def frequency(user_input):\n",
    "    List = [0,0,0,0,0,0,0,0,0,0,0,0,0,0,0,0,0,0,0,0,0,0,0,0,0,0]\n",
    "\n",
    "    List1 = ['a','b','c','d','e','f','g','h','i','j','k','l','m','n','o','p','q','r','s','t','u','v','w','x','y','z']\n",
    "\n",
    "    string=user_input.lower() \n",
    "    a = []\n",
    "    for i in string:\n",
    "        a.append(i)\n",
    "\n",
    "    frequency1 = {}\n",
    "\n",
    "    for item in a:\n",
    "       if item in frequency1:\n",
    "          frequency1[item] += 1\n",
    "       else:\n",
    "          frequency1[item] = 1\n",
    "\n",
    "    for i in frequency1:\n",
    "\n",
    "        if i  in List1:\n",
    "            x = List1.index(i)\n",
    "            List[x] =frequency1[i]\n",
    "\n",
    "    print(List)\n"
   ]
  },
  {
   "cell_type": "code",
   "execution_count": 9,
   "id": "8ed6653e",
   "metadata": {},
   "outputs": [
    {
     "name": "stdout",
     "output_type": "stream",
     "text": [
      "[1, 0, 0, 0, 1, 0, 1, 1, 3, 0, 0, 0, 0, 1, 0, 0, 0, 1, 4, 4, 0, 0, 0, 0, 0, 0]\n"
     ]
    }
   ],
   "source": [
    "frequency('This is a test string!!')"
   ]
  },
  {
   "cell_type": "code",
   "execution_count": null,
   "id": "ac7d16b1",
   "metadata": {},
   "outputs": [],
   "source": []
  }
 ],
 "metadata": {
  "kernelspec": {
   "display_name": "Python 3 (ipykernel)",
   "language": "python",
   "name": "python3"
  },
  "language_info": {
   "codemirror_mode": {
    "name": "ipython",
    "version": 3
   },
   "file_extension": ".py",
   "mimetype": "text/x-python",
   "name": "python",
   "nbconvert_exporter": "python",
   "pygments_lexer": "ipython3",
   "version": "3.9.12"
  }
 },
 "nbformat": 4,
 "nbformat_minor": 5
}
