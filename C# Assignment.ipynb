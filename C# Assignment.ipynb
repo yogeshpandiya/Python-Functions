{
 "cells": [
  {
   "cell_type": "markdown",
   "id": "0627455d",
   "metadata": {},
   "source": [
    "Question 1 c#: "
   ]
  },
  {
   "cell_type": "markdown",
   "id": "54d6b6f2",
   "metadata": {},
   "source": [
    "Answer:\n",
    "\n",
    "5      = int\n",
    "\n",
    "5.0    = double\n",
    "\n",
    "5>1    = bool\n",
    "\n",
    "'5'    = char\n",
    "\n",
    "5 * 2  = int\n",
    "\n",
    "'5'*2  = int\n",
    "\n",
    "'5'+'2'= string\n",
    "\n",
    "5/2   = int\n",
    "\n",
    "5%2    = int\n",
    "\n",
    "{5,2,1}= array\n",
    "\n",
    "5 == 3 = bool\n",
    "\n",
    "pi(the number) = double"
   ]
  },
  {
   "cell_type": "markdown",
   "id": "e9a0ab12",
   "metadata": {},
   "source": [
    "Question 2 c#: "
   ]
  },
  {
   "cell_type": "code",
   "execution_count": 1,
   "id": "bbb07400",
   "metadata": {},
   "outputs": [
    {
     "name": "stdout",
     "output_type": "stream",
     "text": [
      "Lenght of Supercalifragilisticexpialidocious is 34\n",
      "Supercalifragilisticexpialidocious contains ice as a substring at position 18\n",
      "String Bababadalgharaghtakamminarronnkonn is longest\n",
      "First Composer : Bartok\n",
      "Last Composer : Buxtehude\n"
     ]
    }
   ],
   "source": [
    "//How manay letters are there in 'Supercalifragilisticexpialidocious'?\n",
    "string str1 = \"Supercalifragilisticexpialidocious\";\n",
    "int lenght = str1.Length;\n",
    "\n",
    "Console.WriteLine($\"Lenght of {str1} is {lenght}\");\n",
    "\n",
    "//Does 'Supercalifragilisticexpialidocious' contain 'ice' as a substring?\n",
    "for(int i=0;i<lenght-2;i++)\n",
    "{\n",
    "    string subStr = str1.Substring(i, 3);\n",
    "    if(subStr == \"ice\")\n",
    "    {\n",
    "        Console.WriteLine($\"{str1} contains ice as a substring at position {i}\");\n",
    "        break;\n",
    "    }\n",
    "}\n",
    "\n",
    "//Which of the following words is the longest: Supercalifragilisticexpialidocious, honorificabilitudinitatibus or Bababadalgharaghtakamminarronnkonn?\n",
    "\n",
    "string First_word = \"Supercalifragilisticexpialidocious\";\n",
    "string Second_word= \"honorificabilitudinitatibus\";\n",
    "string Third_word = \"Bababadalgharaghtakamminarronnkonn\";\n",
    "int len1 = First_word.Length;\n",
    "int len2 = Second_word.Length;\n",
    "int len3 = Third_word.Length;\n",
    "if(lenght>len2)\n",
    "{\n",
    "    if(len1>len3)\n",
    "    {\n",
    "        Console.WriteLine($\"String {First_word} is longest\");\n",
    "    }\n",
    "    else\n",
    "    {\n",
    "        Console.WriteLine($\"String {Third_word} is longest\");\n",
    "    }\n",
    "}\n",
    "else\n",
    "{\n",
    "    if(len2>len3)\n",
    "    {\n",
    "        Console.WriteLine($\"String {Second_word} is longest\");\n",
    "    }\n",
    "    else\n",
    "    {\n",
    "        Console.WriteLine($\"String {Third_word} is longest\");\n",
    "    }\n",
    "}\n",
    "\n",
    "\n",
    "\n",
    "//Which composer comes first in the dictionary: \"Berlioz\",\"Borodin\",\"Brian\",\"Bartok\",\"Bellini\",\"Buxtehude\",\"Bernstein\". which one comes last?\n",
    "SortedSet<string> set = new SortedSet<string>();\n",
    "set.Add(\"Berlioz\");\n",
    "set.Add(\"Borodin\");\n",
    "set.Add(\"Brian\");\n",
    "set.Add(\"Bartok\");\n",
    "set.Add(\"Bellini\");\n",
    "set.Add(\"Buxtehude\");\n",
    "set.Add(\"Bernstein\");\n",
    "\n",
    "Console.WriteLine($\"First Composer : {set.First()}\");\n",
    "Console.WriteLine($\"Last Composer : {set.Last()}\");"
   ]
  },
  {
   "cell_type": "markdown",
   "id": "5ea28553",
   "metadata": {},
   "source": [
    "Question 3: "
   ]
  },
  {
   "cell_type": "code",
   "execution_count": 2,
   "id": "865be3c5",
   "metadata": {},
   "outputs": [
    {
     "name": "stdout",
     "output_type": "stream",
     "text": [
      "1.7320508075688772\r\n"
     ]
    }
   ],
   "source": [
    "double triangeArea(int a, int b, int c)\n",
    "{\n",
    "    double s = (a + b + c) / 2;\n",
    "    double area = Math.Sqrt(s * (s - a) * (s - b) * (s - c));\n",
    "    return area;\n",
    "}\n",
    "Console.WriteLine(triangeArea(2, 2, 2));"
   ]
  },
  {
   "cell_type": "markdown",
   "id": "8630fd8a",
   "metadata": {},
   "source": [
    "Question 4: This code is not working in Jupyter this will work in VS."
   ]
  },
  {
   "cell_type": "code",
   "execution_count": 3,
   "id": "6d14546a",
   "metadata": {},
   "outputs": [
    {
     "name": "stdout",
     "output_type": "stream",
     "text": [
      "Input the number of elements to be stored in the array :\r\n"
     ]
    },
    {
     "ename": "Unhandled Exception",
     "evalue": "Arithmetic operation resulted in an overflow.",
     "output_type": "error",
     "traceback": [
      "Unhandled Exception",
      "Arithmetic operation resulted in an overflow.",
      "   at Submission#4.<<Initialize>>d__0.MoveNext()",
      "--- End of stack trace from previous location where exception was thrown ---",
      "   at Microsoft.CodeAnalysis.Scripting.ScriptExecutionState.RunSubmissionsAsync[TResult](ImmutableArray`1 precedingExecutors, Func`2 currentExecutor, StrongBox`1 exceptionHolderOpt, Func`2 catchExceptionOpt, CancellationToken cancellationToken)"
     ]
    }
   ],
   "source": [
    "Console.WriteLine(\"Input the number of elements to be stored in the array :\");\n",
    "int n = Convert.ToInt32(Console.Read());\n",
    "\n",
    "int[] arr = new int[n];\n",
    "\n",
    "\n",
    "Console.WriteLine($\"Input {n} elements in the array\");\n",
    "for(int i = 0; i < n; i++)\n",
    "{\n",
    "    Console.WriteLine($\"element - {i} : \");\n",
    "    arr[i] = Convert.ToInt32(Console.Read());\n",
    "}\n",
    "\n",
    "int evenindex = 0;\n",
    "int oddindex = 0;\n",
    "int[] evenArr = new int[n];\n",
    "int[] oddArr = new int[n];\n",
    "\n",
    "\n",
    "foreach (int i in arr)\n",
    "{\n",
    "    \n",
    "    if(i%2 == 0)\n",
    "    {\n",
    "        evenArr[evenindex] = i;\n",
    "        evenindex++;\n",
    "    }\n",
    "    else\n",
    "    {\n",
    "        oddArr[oddindex] = i;\n",
    "        oddindex++;\n",
    "    }\n",
    "}\n",
    "\n",
    "Array.Resize(ref evenArr, evenindex);\n",
    "Array.Resize(ref oddArr, oddindex);\n",
    "Console.WriteLine(\"The Even elements are\");\n",
    "printArray(evenArr);\n",
    "Console.WriteLine(\"\\n\");\n",
    "Console.WriteLine(\"The Odd elements are\");\n",
    "printArray(oddArr);\n",
    "\n",
    "void printArray(int[] arr)\n",
    "{\n",
    "foreach (int i in arr)\n",
    "{\n",
    "  Console.Write(i+\" \");\n",
    "}\n",
    "}"
   ]
  },
  {
   "cell_type": "markdown",
   "id": "5d630a5f",
   "metadata": {},
   "source": [
    "Question 5: "
   ]
  },
  {
   "cell_type": "code",
   "execution_count": 4,
   "id": "08678fbf",
   "metadata": {},
   "outputs": [
    {
     "name": "stdout",
     "output_type": "stream",
     "text": [
      "True\n",
      "False\n",
      "no\n"
     ]
    }
   ],
   "source": [
    "//part a:\n",
    "bool inside(double x, double y, double x1, double y1, double x2, double y2)\n",
    "{\n",
    "    if((x>x1 && x<x2) && (y>y1 && y<y2))\n",
    "    {\n",
    "        return true;\n",
    "    }\n",
    "    else\n",
    "    {\n",
    "        return false;\n",
    "    }\n",
    "}\n",
    "\n",
    "Console.WriteLine(inside(1, 1, 0, 0, 2, 3));\n",
    "\n",
    "Console.WriteLine(inside(-1, -1, 0, 0, 2, 3));\n",
    "\n",
    "//part b:\n",
    "if(inside(1,1,0.3,0.5,1.1,0.7) && inside(1, 1, 0.5, 0.2, 1.1, 2))\n",
    "{\n",
    "    Console.WriteLine(\"yes\");\n",
    "}\n",
    "else { Console.WriteLine(\"no\"); }"
   ]
  }
 ],
 "metadata": {
  "kernelspec": {
   "display_name": ".NET (C#)",
   "language": "C#",
   "name": ".net-csharp"
  },
  "language_info": {
   "file_extension": ".cs",
   "mimetype": "text/x-csharp",
   "name": "C#",
   "pygments_lexer": "csharp",
   "version": "8.0"
  }
 },
 "nbformat": 4,
 "nbformat_minor": 5
}
